{
  "nbformat": 4,
  "nbformat_minor": 0,
  "metadata": {
    "colab": {
      "provenance": []
    },
    "kernelspec": {
      "name": "python3",
      "display_name": "Python 3"
    },
    "language_info": {
      "name": "python"
    }
  },
  "cells": [
    {
      "cell_type": "markdown",
      "source": [
        "Question 1 : What is Simple Linear Regression (SLR)? Explain its purpose.\n",
        "- Simple Linear Regression (SLR) is a statistical method used to model the relationship between two variables: One independent variable (predictor), One dependent variable (response)\n",
        "- SLR tries to fit a straight line (called a regression line) through a set of data points so that the line best describes the relationship between the independent variable (X) and the dependent variable (Y).\n",
        "- PURPOSE::\n",
        "- Prediction: Estimate or predict the value of the dependent variable (Y) for a given value of the independent variable (X).\n",
        "- Understanding Relationships: Determine whether a relationship exists between X and Y, and if so, how strong and in what direction (positive or negative).\n",
        "- Quantifying Impact: Measure how much change in Y is associated with a unit change in X (interpreted through the slope)\n",
        "- Trend Analysis: Identify patterns or trends in data, especially over time (e.g., sales vs. advertising spend).\n"
      ],
      "metadata": {
        "id": "evzdtx4qLMdV"
      }
    },
    {
      "cell_type": "markdown",
      "source": [
        "Question 2: What are the key assumptions of Simple Linear Regression?\n",
        "- Key Assumptions of SLR:\n",
        " - 1)Linearity: The relationship between X and Y is linear.\n",
        " - 2)Independence: Observations are independent.\n",
        " - 3)Homoscedasticity: Constant variance of errors.\n",
        " - 4)Normality: Errors are normally distributed."
      ],
      "metadata": {
        "id": "Jq-bdEM2MLgd"
      }
    },
    {
      "cell_type": "markdown",
      "source": [
        "Question 3: Write the mathematical equation for a simple linear regression model and explain each term\n",
        "- The mathematical equation for a Simple Linear Regression (SLR) model is:\n",
        "\n",
        "𝑌=\n",
        "𝛽\n",
        "0\n",
        "+\n",
        "𝛽\n",
        "1\n",
        "𝑋\n",
        "\n",
        "- Y: Dependent variable (also called the response or outcome variable). This is what we are trying to predict or explain.\n",
        "- X: Independent variable (also called the predictor or explanatory variable). This is the variable we use to make predictions.\n",
        "\n",
        "- 𝛽0: Intercept,The expected value of Y when X=0. It represents the point where the regression line crosses the Y-axis.\n",
        "\n",
        "- 𝛽1: Slope coefficient. It shows the rate of change in Y for a one-unit increase in X. It indicates the strength and direction of the realationship between X and Y.\n"
      ],
      "metadata": {
        "id": "4uFGFwYeMZLG"
      }
    },
    {
      "cell_type": "markdown",
      "source": [
        "Question 4: Provide a real-world example where simple linear regression can be\n",
        "applied\n",
        "- A school wants to understand the relationship between the number of hours students study and their scores on a final exam.\n",
        "- Application of Simple Linear Regression: Independent Variable (X): Number of hours studied; Dependent Variable (Y): Exam score (percentage)\n",
        "- Purpose: Using simple linear regression, the school can: Predict a student’s expected exam score based on how many hours they studied.Measure how much an additional hour of studying is expected to increase the exam score.\n",
        "Evaluate the strength and direction of the relationship between study time and performance.\n",
        "- Regression Equation Example:Exam Score=𝛽0+β1×Hours Studied\n",
        "\n",
        "Suppose after analysis, the estimated model is:𝑌^=50+5𝑋\n",
        "Here,Y^ = predicted exam score,\n",
        "X = hours studied, 50 = intercept (baseline score if no study hours), 5 = slope (score increases by 5 points for each additional hour studied)\n",
        "- Interpretation: If a student studies for 4 hours, the predicted score is:\n",
        "Y^=50+5(4)=70\n",
        "- So, a student who studies 4 hours is expected to score 70% on the exam"
      ],
      "metadata": {
        "id": "Nmsv67GYOHMm"
      }
    },
    {
      "cell_type": "markdown",
      "source": [
        "Question 5: What is the method of least squares in linear regression?\n",
        "- The method of least squares is a standard approach in linear regression for finding the best-fitting line (or hyperplane in higher dimensions) through a set of data points by minimizing the sum of the squares of the residuals.\n",
        "- Residuals are the differences between the observed values and the predicted values from the regression model.\n",
        "\n",
        "For a data point (xi,yi), and a linear model y=mx+b (or more generally y=𝛽\n",
        "0+β1x), the residual is:\n",
        "residual\n",
        "i=yi-y^=yi-(β0+β1xi)\n",
        "- Goal of Least Squares:1)Minimize the sum of squared residuals:\n",
        "RSS=i=1∑n(yi−(β0+β1xi))2\n",
        "- This is known as the Residual Sum of Squares (RSS). The method of least squares chooses the coefficients 𝛽0 and β1 that minimize this sum."
      ],
      "metadata": {
        "id": "JbjXEIdJQEoP"
      }
    },
    {
      "cell_type": "markdown",
      "source": [
        "Question 6: What is Logistic Regression? How does it differ from Linear Regression?\n",
        "- Logistic Regression is a classification algorithm, not a regression one—despite its name. It's used to predict categorical outcomes, typically binary (like yes/no, 0/1, spam/not spam, etc.).\n",
        "- It models the probability that a given input belongs to a certain class.\n",
        "- Instead of predicting a continuous value (like in linear regression), it predicts a probability between 0 and 1.\n",
        "- It uses the logistic (sigmoid) function to \"squash\" the output of a linear equation into a 0–1 range.\n",
        "- DIIFERENCE BETWEEN LINEAR AND LOGISTIC:\n",
        "- LINEAR: 1)Its goal is to predict a continuous value 2)Its output is any real number 3)It is used for regression problems 4)The loss function is Mean Squared Error(MSE) 5)It directly models relationship between input and output.\n",
        "- Logistic: 1)Its goal is to predict a categorical label (usually binary) 2)Its output is the probability between 0 and 1. 3)It is used for Classification problems 4)The loss function is Log Loss (Cross-Entropy Loss) 5)It models relationship between input and log-odds of output\n"
      ],
      "metadata": {
        "id": "40DpWpR6S5bJ"
      }
    },
    {
      "cell_type": "markdown",
      "source": [
        "Question 7: Name and briefly describe three common evaluation metrics for regression models\n",
        "- 1)Mean Absolute Error (MAE): MAE measures the average absolute difference between the predicted values and the actual values.\n",
        "- Formula: MAE= n∑ i=1 ∣yi−y^i∣\n",
        "- Interpretation: Lower values indicate better model performance. It's easy to interpret but doesn't heavily penalize large errors.\n",
        "- 2)Mean Squared Error (MSE): MSE calculates the average of the squared differences between predicted and actual values.\n",
        "- Formula:MSE=n∑i=1(yi−y^i)2\n",
        "- Interpretation: Like MAE, lower values are better. It penalizes larger errors more than MAE due to squaring, making it sensitive to outliers.\n",
        "- 3)R-squared (R²): R² measures the proportion of variance in the dependent variable that is predictable from the independent variables.\n",
        "- Formula:R2=1−∑(yi−yˉ)2∑(yi−y^i)2\n",
        "- Interpretation: Ranges from 0 to 1 (can be negative for poor models). A value closer to 1 means the model explains more of the variance."
      ],
      "metadata": {
        "id": "xp4H_RPIVAqS"
      }
    },
    {
      "cell_type": "markdown",
      "source": [
        "Question 8: What is the purpose of the R-squared metric in regression analysis?\n",
        "- The purpose of the R-squared (R²) metric in regression analysis is to measure how well the independent variables explain the variability in the dependent variable.\n",
        "- R-squared tells you how much of the variation in the outcome (dependent variable) is accounted for by the model.\n",
        "- Range: R² ranges from 0 to 1 (but can be negative if the model is worse than just predicting the mean).\n",
        "R² = 1 → Perfect fit (the model explains all variability in the data).\n",
        "R² = 0 → The model explains none of the variability.\n",
        "- Interpretation:If R² = 0.85, it means 85% of the variance in the target variable is explained by the model, and 15% remains unexplained (due to randomness or missing variables).\n",
        "- It helps evaluate the explanatory power of the model.\n",
        "- Especially useful for comparing different models fitted on the same dataset."
      ],
      "metadata": {
        "id": "AN3IlQTFXQng"
      }
    },
    {
      "cell_type": "code",
      "source": [
        "\n",
        "# Question 9: Write Python code to fit a simple linear regression model using scikit-learn\n",
        " # and print the slope and intercept\n",
        "\n",
        "from sklearn.linear_model import LinearRegression\n",
        "import numpy as np\n",
        "\n",
        "# Example data\n",
        "# X: feature (independent variable)\n",
        "# y: target (dependent variable)\n",
        "X = np.array([[1], [2], [3], [4], [5]])\n",
        "y = np.array([2, 4, 6, 4, 8])\n",
        "\n",
        "\n",
        "model = LinearRegression()\n",
        "model.fit(X, y)\n",
        "\n",
        "print(f\"Slope (coefficient): {model.coef_[0]}\")\n",
        "print(f\"Intercept: {model.intercept_}\")\n"
      ],
      "metadata": {
        "colab": {
          "base_uri": "https://localhost:8080/"
        },
        "id": "QzX9yJWQcCO3",
        "outputId": "c5e56c87-acfd-4836-d22e-663c40e48c33"
      },
      "execution_count": 3,
      "outputs": [
        {
          "output_type": "stream",
          "name": "stdout",
          "text": [
            "Slope (coefficient): 1.2000000000000002\n",
            "Intercept: 1.1999999999999993\n"
          ]
        }
      ]
    },
    {
      "cell_type": "markdown",
      "source": [
        "Question 10: How do you interpret the coefficients in a simple linear regression model?\n",
        "- In a simple linear regression model, the goal is to describe the relationship between a dependent variable Y and a single independent variable X using a straight line.\n",
        "Y=β0+β1X\n",
        "\n",
        " Where: Y is the dependent variable (outcome),X is the independent variable (predictor),𝛽0 is the intercept,𝛽1 is the slope (coefficient),\n",
        "- Interpreting the Coefficients\n",
        "- Intercept (𝛽0):This is the expected value of Y when X=0.\n",
        "Interpretation depends on whether X=0 is within the range of observed data:if X=0 is in or near the range of the data; Less meaningful or even misleading if X=0 is outside the data range (extrapolation).\n",
        "- Slope (𝛽1):This is the change in the expected value of Y for a one-unit increase in X.For each additional unit increase in X, Y is expected to increase (or decrease, if 𝛽1<0) by 𝛽1 units, on average.\n",
        "\n",
        "Example:If 𝛽1=2, then for each 1-unit increase in X, Y increases by 2 units."
      ],
      "metadata": {
        "id": "ouvMvNXEc_zf"
      }
    }
  ]
}